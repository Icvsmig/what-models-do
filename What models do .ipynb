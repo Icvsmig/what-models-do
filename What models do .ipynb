{
 "cells": [
  {
   "cell_type": "markdown",
   "metadata": {},
   "source": [
    "## 1. Try to model the result of a coin toss. In your model, include any features that you think important in explaining the result. Discuss with your mentor about the pros and cons of adding too many features into your model.\n"
   ]
  },
  {
   "cell_type": "markdown",
   "metadata": {},
   "source": [
    "1. The force used to flip the coin. \n",
    "2. The rotation of the coin in terms of speed and angle\n",
    "3. The amount of time spent in the air before hitting the surface\n",
    "4. The angle between the coin and surface before it hits the surface\n",
    "5. starting the toss with either head or tails\n",
    "6. number of rotaions if measurable\n"
   ]
  },
  {
   "cell_type": "markdown",
   "metadata": {},
   "source": [
    "## 2. If you ever used Netflix, you should already have realized that it provides some recommendations for you to watch. In data science, this is an example of the so called recommendations systems. Read this non-technical blog post of Netflix about how they model their recommendations systems. Then, derive the features they use in their recommendations engines and discuss what else can be incorporated into this model."
   ]
  },
  {
   "cell_type": "markdown",
   "metadata": {},
   "source": [
    "Netflix uses the following info for its recomendation system \n",
    "\n",
    "1. viewing history of a person\n",
    "2. rating on viewed titles\n",
    "3. other people with similar preferences \n",
    "4. title infor such as genre, actors, release year\n",
    "5. time of day the person watch\n",
    "6. duration of watch\n",
    "\n",
    "additional Features \n",
    "1. similar director or writer of the movie\n",
    "2. how many times a show or a movie was watched \n",
    "3. fa"
   ]
  }
 ],
 "metadata": {
  "kernelspec": {
   "display_name": "Python 3",
   "language": "python",
   "name": "python3"
  },
  "language_info": {
   "codemirror_mode": {
    "name": "ipython",
    "version": 3
   },
   "file_extension": ".py",
   "mimetype": "text/x-python",
   "name": "python",
   "nbconvert_exporter": "python",
   "pygments_lexer": "ipython3",
   "version": "3.7.3"
  }
 },
 "nbformat": 4,
 "nbformat_minor": 2
}
